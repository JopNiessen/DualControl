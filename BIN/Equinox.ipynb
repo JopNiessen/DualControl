{
 "cells": [
  {
   "cell_type": "code",
   "execution_count": 3,
   "metadata": {},
   "outputs": [],
   "source": [
    "import numpy as np\n",
    "import matplotlib.pyplot as plt\n",
    "\n",
    "import jax\n",
    "import jax.lax as lax\n",
    "import jax.numpy as jnp\n",
    "import jax.random as jrandom\n",
    "import optax\n",
    "\n",
    "import equinox as eqx"
   ]
  },
  {
   "cell_type": "markdown",
   "metadata": {},
   "source": [
    "## Example: RNN"
   ]
  },
  {
   "cell_type": "code",
   "execution_count": null,
   "metadata": {},
   "outputs": [],
   "source": [
    "class RNN(eqx.Module):\n",
    "    hidden_size: int\n",
    "    cell: eqx.Module\n",
    "    linear: eqx.nn.Linear\n",
    "    bias: jnp.ndarray\n",
    "\n",
    "    def __init__(self, in_size, out_size, hidden_size, *, key):\n",
    "        ckey, lkey = jrandom.split(key)\n",
    "        self.hidden_size = hidden_size\n",
    "        self.cell = eqx.nn.GRUCell(in_size, hidden_size, key=ckey)\n",
    "        self.linear = eqx.nn.Linear(hidden_size, out_size, use_bias=False, key=lkey)\n",
    "        self.bias = jnp.zeros(out_size)\n",
    "\n",
    "    def __call__(self, input):\n",
    "        hidden = jnp.zeros((self.hidden_size,))\n",
    "\n",
    "        def f(carry, inp):\n",
    "            return self.cell(inp, carry), None\n",
    "\n",
    "        out, _ = lax.scan(f, hidden, input)\n",
    "        # sigmoid because we're performing binary classification\n",
    "        return jax.nn.sigmoid(self.linear(out) + self.bias)"
   ]
  },
  {
   "cell_type": "code",
   "execution_count": null,
   "metadata": {},
   "outputs": [],
   "source": [
    "def main(\n",
    "    dataset_size=10000,\n",
    "    batch_size=32,\n",
    "    learning_rate=3e-3,\n",
    "    steps=200,\n",
    "    hidden_size=16,\n",
    "    depth=1,\n",
    "    seed=5678,\n",
    "):\n",
    "    data_key, loader_key, model_key = jrandom.split(jrandom.PRNGKey(seed), 3)\n",
    "    xs, ys = get_data(dataset_size, key=data_key)\n",
    "    iter_data = dataloader((xs, ys), batch_size, key=loader_key)\n",
    "\n",
    "    model = RNN(in_size=2, out_size=1, hidden_size=hidden_size, key=model_key)\n",
    "\n",
    "    @eqx.filter_value_and_grad\n",
    "    def compute_loss(model, x, y):\n",
    "        pred_y = jax.vmap(model)(x)\n",
    "        # Trains with respect to binary cross-entropy\n",
    "        return -jnp.mean(y * jnp.log(pred_y) + (1 - y) * jnp.log(1 - pred_y))\n",
    "\n",
    "    # Important for efficiency whenever you use JAX: wrap everything into a single JIT\n",
    "    # region.\n",
    "    @eqx.filter_jit\n",
    "    def make_step(model, x, y, opt_state):\n",
    "        loss, grads = compute_loss(model, x, y)\n",
    "        updates, opt_state = optim.update(grads, opt_state)\n",
    "        model = eqx.apply_updates(model, updates)\n",
    "        return loss, model, opt_state\n",
    "\n",
    "    optim = optax.adam(learning_rate)\n",
    "    opt_state = optim.init(model)\n",
    "    for step, (x, y) in zip(range(steps), iter_data):\n",
    "        loss, model, opt_state = make_step(model, x, y, opt_state)\n",
    "        loss = loss.item()\n",
    "        print(f\"step={step}, loss={loss}\")\n",
    "\n",
    "    pred_ys = jax.vmap(model)(xs)\n",
    "    num_correct = jnp.sum((pred_ys > 0.5) == ys)\n",
    "    final_accuracy = (num_correct / dataset_size).item()\n",
    "    print(f\"final_accuracy={final_accuracy}\")"
   ]
  },
  {
   "cell_type": "markdown",
   "metadata": {},
   "source": [
    "## NN"
   ]
  },
  {
   "cell_type": "code",
   "execution_count": 4,
   "metadata": {},
   "outputs": [],
   "source": [
    "import equinox as eqx\n",
    "import jax\n",
    "\n",
    "class MyModule(eqx.Module):\n",
    "    layers: list\n",
    "    bias: jax.numpy.ndarray\n",
    "\n",
    "    def __init__(self, key):\n",
    "        key1, key2, key3 = jax.random.split(key, 3)\n",
    "        self.layers = [eqx.nn.Linear(1, 8, key=key1),\n",
    "                        eqx.nn.Linear(8, 8, key=key2),\n",
    "                        eqx.nn.Linear(8, 8, key=key2),\n",
    "                        eqx.nn.Linear(8, 1, key=key3)]\n",
    "        self.bias = jax.numpy.ones(1)\n",
    "\n",
    "    def __call__(self, x):\n",
    "        for layer in self.layers[:-1]:\n",
    "            x = layer(x)\n",
    "        return self.layers[-1](x) + self.bias\n",
    "\n",
    "@jax.jit\n",
    "@jax.grad\n",
    "def loss(model, x, y):\n",
    "    pred_y = jax.vmap(model)(x)\n",
    "    return jax.numpy.mean((y - pred_y) ** 2)\n",
    "\n"
   ]
  },
  {
   "cell_type": "code",
   "execution_count": 5,
   "metadata": {},
   "outputs": [],
   "source": [
    "def f(x):\n",
    "    return x**2\n",
    "\n",
    "x_key, y_key, model_key = jax.random.split(jax.random.PRNGKey(0), 3)\n",
    "x_train = jrandom.normal(x_key, (10,1))\n",
    "y_train = f(x_train)\n",
    "x_test = jnp.linspace(-5, 5, 20).reshape((20,1))\n",
    "y_test = f(x_test)\n",
    "\n",
    "model = MyModule(model_key)\n",
    "learning_rate = 1e-2\n",
    "\n",
    "for it in range(100):\n",
    "    x_train = jrandom.normal(x_key, (10,1))\n",
    "    y_train = f(x_train)\n",
    "    grads = loss(model, x_train, y_train)\n",
    "    model = jax.tree_util.tree_map(lambda m, g: m - learning_rate * g, model, grads)"
   ]
  },
  {
   "cell_type": "code",
   "execution_count": 6,
   "metadata": {},
   "outputs": [
    {
     "data": {
      "text/plain": [
       "[<matplotlib.lines.Line2D at 0x7f276c268690>]"
      ]
     },
     "execution_count": 6,
     "metadata": {},
     "output_type": "execute_result"
    },
    {
     "data": {
      "image/png": "[encoded data removed]",
      "text/plain": [
       "<Figure size 432x288 with 1 Axes>"
      ]
     },
     "metadata": {
      "needs_background": "light"
     },
     "output_type": "display_data"
    }
   ],
   "source": [
    "X = np.zeros(20)\n",
    "for it, x in enumerate(x_test):\n",
    "    X[it] = model(x)\n",
    "\n",
    "fig, ax = plt.subplots()\n",
    "ax.plot(x_test, X)"
   ]
  }
 ],
 "metadata": {
  "kernelspec": {
   "display_name": "Python 3.7.15 ('ML')",
   "language": "python",
   "name": "python3"
  },
  "language_info": {
   "codemirror_mode": {
    "name": "ipython",
    "version": 3
   },
   "file_extension": ".py",
   "mimetype": "text/x-python",
   "name": "python",
   "nbconvert_exporter": "python",
   "pygments_lexer": "ipython3",
   "version": "3.7.15 (default, Nov  7 2022, 22:00:21) \n[GCC 11.2.0]"
  },
  "orig_nbformat": 4,
  "vscode": {
   "interpreter": {
    "hash": "3c7394171d7d729d420cd382c214c1b5e828b79606e2dcfa15a106dc0d624623"
   }
  }
 },
 "nbformat": 4,
 "nbformat_minor": 2
}
