{
 "cells": [
  {
   "cell_type": "markdown",
   "metadata": {},
   "source": [
    "# Q-learning control for Stochastic Double Integrator\n",
    "## Method: Q-table"
   ]
  },
  {
   "cell_type": "code",
   "execution_count": 23,
   "metadata": {},
   "outputs": [],
   "source": [
    "import numpy as np\n",
    "import jax.numpy as jnp\n",
    "\n",
    "from src.systems.linear import StochasticDoubleIntegrator\n",
    "from src.RL.QLearning import QLearning\n",
    "import matplotlib.pyplot as plt\n",
    "\n",
    "plt.style.use('ggplot')"
   ]
  },
  {
   "cell_type": "code",
   "execution_count": null,
   "metadata": {},
   "outputs": [],
   "source": [
    "x0 = np.array([5, 2])\n",
    "SDI = StochasticDoubleIntegrator(x0)\n",
    "\n",
    "n_steps = 1000\n",
    "n_state = len(x0)\n",
    "\n",
    "X = np.zeros((n_steps, n_state))\n",
    "R = np.zeros(n_steps)\n",
    "U = np.zeros(n_steps)\n",
    "\n",
    "Q = QLearning()\n",
    "\n",
    "# epsilon greedy to stimulate exploration\n",
    "epsilon = .9\n",
    "decay = .95\n",
    "min_epsilon = .01\n",
    "\n",
    "y0 = SDI.observe()\n",
    "for i in range(0, n_steps - 1):\n",
    "\n",
    "    if abs(SDI.x[0]) >= 9:\n",
    "        x0 = np.random.normal(size=2) * 5\n",
    "        SDI.reset(x0)\n",
    "        epsilon = .5\n",
    "        y0 = SDI.observe()\n",
    "\n",
    "    X[i] = SDI.x\n",
    "\n",
    "    if np.random.random() < epsilon:\n",
    "        u_star = np.random.choice(Q.cntr_space)\n",
    "    else:\n",
    "        _, u_star, _ = Q.get_control(y0)\n",
    "\n",
    "    U[i] = u_star\n",
    "\n",
    "    r0 = SDI.cost(y0, u_star)\n",
    "    R[i] = - SDI.cost(SDI.x, u_star)\n",
    "\n",
    "    # take step\n",
    "    SDI.update(u_star)\n",
    "    y1 = SDI.observe()\n",
    "\n",
    "    # update qtable\n",
    "    Q.update(r0, y0, y1, u_star)\n",
    "    y0 = y1\n",
    "\n",
    "\n",
    "plt.figure(figsize=(10,15))\n",
    "plt.subplot(3,1,1)\n",
    "plt.plot(X[:-1])\n",
    "plt.title('state')\n",
    "plt.subplot(3,1,2)\n",
    "plt.plot(U[:-1])\n",
    "plt.title('control')\n",
    "plt.subplot(3,1,3)\n",
    "plt.plot(R[:-1])\n",
    "plt.title('reward')\n",
    "\n"
   ]
  }
 ],
 "metadata": {
  "kernelspec": {
   "display_name": "Python 3.7.15 ('ML': conda)",
   "language": "python",
   "name": "python3"
  },
  "language_info": {
   "codemirror_mode": {
    "name": "ipython",
    "version": 3
   },
   "file_extension": ".py",
   "mimetype": "text/x-python",
   "name": "python",
   "nbconvert_exporter": "python",
   "pygments_lexer": "ipython3",
   "version": "3.7.15"
  },
  "orig_nbformat": 4,
  "vscode": {
   "interpreter": {
    "hash": "3c7394171d7d729d420cd382c214c1b5e828b79606e2dcfa15a106dc0d624623"
   }
  }
 },
 "nbformat": 4,
 "nbformat_minor": 2
}
