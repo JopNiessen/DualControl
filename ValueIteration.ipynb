{
 "cells": [
  {
   "cell_type": "markdown",
   "metadata": {},
   "source": [
    "# Q-table control for the Stochastic Double Integrator\n",
    "## Method: Value Iteration (VI)"
   ]
  },
  {
   "cell_type": "code",
   "execution_count": 1,
   "metadata": {},
   "outputs": [
    {
     "ename": "ModuleNotFoundError",
     "evalue": "No module named 'src'",
     "output_type": "error",
     "traceback": [
      "\u001b[0;31m---------------------------------------------------------------------------\u001b[0m",
      "\u001b[0;31mModuleNotFoundError\u001b[0m                       Traceback (most recent call last)",
      "\u001b[0;32m/tmp/ipykernel_18917/3876973948.py\u001b[0m in \u001b[0;36m<module>\u001b[0;34m\u001b[0m\n\u001b[1;32m      1\u001b[0m \u001b[0;32mimport\u001b[0m \u001b[0mnumpy\u001b[0m \u001b[0;32mas\u001b[0m \u001b[0mnp\u001b[0m\u001b[0;34m\u001b[0m\u001b[0;34m\u001b[0m\u001b[0m\n\u001b[0;32m----> 2\u001b[0;31m \u001b[0;32mfrom\u001b[0m \u001b[0msrc\u001b[0m\u001b[0;34m.\u001b[0m\u001b[0msystems\u001b[0m\u001b[0;34m.\u001b[0m\u001b[0mlinear\u001b[0m \u001b[0;32mimport\u001b[0m \u001b[0mStochasticDoubleIntegrator\u001b[0m\u001b[0;34m\u001b[0m\u001b[0;34m\u001b[0m\u001b[0m\n\u001b[0m\u001b[1;32m      3\u001b[0m \u001b[0;32mfrom\u001b[0m \u001b[0msrc\u001b[0m\u001b[0;34m.\u001b[0m\u001b[0mRL\u001b[0m\u001b[0;34m.\u001b[0m\u001b[0mValueIteration\u001b[0m \u001b[0;32mimport\u001b[0m \u001b[0mValueIteration\u001b[0m\u001b[0;34m\u001b[0m\u001b[0;34m\u001b[0m\u001b[0m\n\u001b[1;32m      4\u001b[0m \u001b[0;32mimport\u001b[0m \u001b[0mmatplotlib\u001b[0m\u001b[0;34m.\u001b[0m\u001b[0mpyplot\u001b[0m \u001b[0;32mas\u001b[0m \u001b[0mplt\u001b[0m\u001b[0;34m\u001b[0m\u001b[0;34m\u001b[0m\u001b[0m\n\u001b[1;32m      5\u001b[0m \u001b[0;34m\u001b[0m\u001b[0m\n",
      "\u001b[0;31mModuleNotFoundError\u001b[0m: No module named 'src'"
     ]
    }
   ],
   "source": [
    "import numpy as np\n",
    "from src.systems.linear import StochasticDoubleIntegrator\n",
    "from src.RL.ValueIteration import ValueIteration\n",
    "import matplotlib.pyplot as plt\n",
    "\n",
    "plt.style.use('ggplot')"
   ]
  },
  {
   "cell_type": "markdown",
   "metadata": {},
   "source": [
    "### Stochastic Double Integrator"
   ]
  },
  {
   "cell_type": "code",
   "execution_count": null,
   "metadata": {},
   "outputs": [],
   "source": [
    "x0 = np.array([2,0])\n",
    "SDI = StochasticDoubleIntegrator(x0)\n",
    "\n",
    "_, s_data = SDI.run(200)\n",
    "\n",
    "fig, ax = plt.subplots(figsize=(12,6))\n",
    "ax.plot(s_data[:, 0], label='position')\n",
    "ax.plot(s_data[:, 1], label='velocity')\n",
    "ax.set_xlabel('position')\n",
    "ax.set_ylabel('velocity')\n",
    "ax.legend()"
   ]
  },
  {
   "cell_type": "markdown",
   "metadata": {},
   "source": [
    "### Method 1: Value Iteration\n",
    "Here the Q-table is trained through value iteration (VI)"
   ]
  },
  {
   "cell_type": "code",
   "execution_count": null,
   "metadata": {},
   "outputs": [],
   "source": [
    "x0 = np.array([2,0])\n",
    "SDI = StochasticDoubleIntegrator(x0)\n",
    "\n",
    "Q = ValueIteration()\n",
    "Q.run_vi(SDI.get_state_update, SDI.cost, iterations=500)\n",
    "\n",
    "img = np.argmax(Q.Qtable, axis=-1)*2-1\n",
    "\n",
    "fig, ax = plt.subplots()\n",
    "cb = ax.imshow(img, cmap='gist_yarg')\n",
    "cbar = plt.colorbar(cb)\n",
    "cbar.set_label('control')\n",
    "n_bins = Q.nbins\n",
    "amp = Q.state_amp\n",
    "ax.set_yticks((np.arange(-amp[0], amp[0]+.1, 1)+amp[0])*(n_bins[0]-1)/(2*amp[0]))\n",
    "ax.set_yticklabels(np.arange(-amp[0], amp[0]+.1, 1))\n",
    "ax.set_xticks((np.arange(-amp[1], amp[1]+.1, 1)+amp[1])*(n_bins[1]-1)/(2*amp[1]))\n",
    "ax.set_xticklabels(np.arange(-amp[1], amp[1]+.1, 1))\n",
    "ax.set_ylabel('position')\n",
    "ax.set_xlabel('velocity')\n",
    "plt.show()"
   ]
  },
  {
   "cell_type": "code",
   "execution_count": null,
   "metadata": {},
   "outputs": [],
   "source": [
    "diff = abs(np.diff(Q.Qtable, axis=2)[:, :, 0])\n",
    "\n",
    "fig, ax = plt.subplots(figsize=(12, 8))\n",
    "cb = ax.imshow(diff, interpolation='bicubic', cmap='viridis')\n",
    "cbar = plt.colorbar(cb)\n",
    "cbar.set_label('certainty')\n",
    "ax.set_yticks((np.arange(-amp[0], amp[0]+.1, 1)+amp[0])*(n_bins[0]-1)/(2*amp[0]))\n",
    "ax.set_yticklabels(np.arange(-amp[0], amp[0]+.1, 1))\n",
    "ax.set_xticks((np.arange(-amp[1], amp[1]+.1, 1)+amp[1])*(n_bins[1]-1)/(2*amp[1]))\n",
    "ax.set_xticklabels(np.arange(-amp[1], amp[1]+.1, 1))\n",
    "ax.set_ylabel('position')\n",
    "ax.set_xlabel('velocity')\n",
    "plt.show()"
   ]
  },
  {
   "cell_type": "markdown",
   "metadata": {},
   "source": [
    "**Q-table controller performance**"
   ]
  },
  {
   "cell_type": "code",
   "execution_count": null,
   "metadata": {},
   "outputs": [],
   "source": [
    "def run_sdi(i_time, sdi, Qi):\n",
    "    n_time = len(i_time)\n",
    "    n_state = Qi.state_n\n",
    "\n",
    "    X = np.zeros((n_time, n_state))\n",
    "    U = np.zeros(n_time)\n",
    "    C = np.zeros(n_time)\n",
    "    for it, t in enumerate(i_time):\n",
    "        X[it] = sdi.x\n",
    "        _, u_star, _ = Qi.get_control(sdi.x)\n",
    "        state, cost = sdi.update(u_star, info=True)\n",
    "        U[it] = u_star\n",
    "        C[it] = cost\n",
    "    return X, U, C"
   ]
  },
  {
   "cell_type": "code",
   "execution_count": null,
   "metadata": {},
   "outputs": [],
   "source": [
    "x0 = np.array([2,0])\n",
    "T = 100\n",
    "dt = 1\n",
    "\n",
    "SDI = StochasticDoubleIntegrator(x0, dt=dt)\n",
    "time = np.arange(0, T, SDI.dt)\n",
    "\n",
    "X, U, C = run_sdi(time, SDI, Q)\n",
    "\n",
    "fig, ax = plt.subplots(3, figsize=(12,10))\n",
    "ax[0].plot(time, X[:, 0], label='position')\n",
    "ax[0].plot(time, X[:, 1], label='velocity')\n",
    "ax[0].legend()\n",
    "ax[0].set_title('state')\n",
    "ax[1].plot(time, U)\n",
    "ax[1].set_title('control')\n",
    "ax[2].plot(time, C)\n",
    "ax[2].set_title('cost')\n",
    "labels = {'y': ['pos/vel', 'control', 'cost'], 'x': ['time' for i in range(3)]}\n",
    "for i in range(3):\n",
    "    ax[i].set_xlabel(labels['x'][i])\n",
    "    ax[i].set_ylabel(labels['y'][i])\n",
    "plt.tight_layout()"
   ]
  },
  {
   "cell_type": "code",
   "execution_count": null,
   "metadata": {},
   "outputs": [],
   "source": [
    "T = 30\n",
    "\n",
    "SDI = StochasticDoubleIntegrator(x0, dt=dt)\n",
    "time = np.arange(0, T, SDI.dt)\n",
    "\n",
    "N = 200\n",
    "it_space = [100, 200, 500]\n",
    "performance = {'n_it': [], 'mu': [], 'std': []}\n",
    "\n",
    "fig, ax = plt.subplots(3, figsize=(12, 10))\n",
    "\n",
    "for n_iter in it_space:\n",
    "    Q = ValueIteration()\n",
    "    Q.run_vi(SDI.get_state_update, SDI.cost, iterations=n_iter)\n",
    "\n",
    "    X, U, C = run_sdi(time, SDI, Q)\n",
    "    X0, X1 = X.T\n",
    "\n",
    "    AC = np.zeros(N)\n",
    "    for i_trial in range(N):\n",
    "        x0 = np.random.uniform(-3, 3, size=2)\n",
    "        SDI.reset(x0)\n",
    "        Xt, Ut, Ct = run_sdi(time, SDI, Q)\n",
    "        xt0, xt1 = Xt.T\n",
    "        X0 = np.vstack((X0, xt0))\n",
    "        X1 = np.vstack((X1, xt1))\n",
    "        C = np.vstack((C, Ct))\n",
    "        AC[i_trial] = np.mean(Ct)\n",
    "\n",
    "    performance['n_it'].append(n_iter)\n",
    "    performance['mu'].append(np.mean(AC))\n",
    "    performance['std'].append(np.std(AC))\n",
    "\n",
    "    ax[0].plot(time, np.std(X0, axis=0), label='N = {}'.format(n_iter))\n",
    "    ax[1].plot(time, np.std(X1, axis=0), label='N = {}'.format(n_iter))\n",
    "    ax[2].plot(time, np.mean(C, axis=0), label='N = {}'.format(n_iter))\n",
    "\n",
    "labels = {'y': ['st.dev.', 'st.dev.', 'avg cost'],\n",
    "          'x': ['time' for i in range(3)],\n",
    "          'title': ['position error', 'velocity error', 'average cost']}\n",
    "for i in range(3):\n",
    "    ax[i].set_xlabel(labels['x'][i])\n",
    "    ax[i].set_ylabel(labels['y'][i])\n",
    "    ax[i].set_title(labels['title'][i])\n",
    "    ax[i].legend()\n",
    "plt.tight_layout()\n",
    "\n",
    "print(performance) #TODO: Include performance graph"
   ]
  }
 ],
 "metadata": {
  "kernelspec": {
   "display_name": "Python 3.9.13 ('base')",
   "language": "python",
   "name": "python3"
  },
  "language_info": {
   "codemirror_mode": {
    "name": "ipython",
    "version": 3
   },
   "file_extension": ".py",
   "mimetype": "text/x-python",
   "name": "python",
   "nbconvert_exporter": "python",
   "pygments_lexer": "ipython3",
   "version": "3.9.13"
  },
  "orig_nbformat": 4,
  "vscode": {
   "interpreter": {
    "hash": "afdd3199df6ffab499b41b8115bcf3e66df89f119b7ee65de1fb93abaf54ccc2"
   }
  }
 },
 "nbformat": 4,
 "nbformat_minor": 2
}
